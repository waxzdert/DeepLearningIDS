{
 "cells": [
  {
   "cell_type": "code",
   "execution_count": 1,
   "metadata": {},
   "outputs": [],
   "source": [
    "import pandas as pd\n",
    "import numpy as np\n",
    "import tensorflow as tf\n",
    "from tensorflow.contrib import rnn\n",
    "from sklearn.ensemble import RandomForestClassifier\n",
    "from sklearn import preprocessing\n",
    "import matplotlib.pylab as plt"
   ]
  },
  {
   "cell_type": "code",
   "execution_count": 2,
   "metadata": {},
   "outputs": [],
   "source": [
    "def DataLoading (mypath):\n",
    "    print (\"Loading the data\")\n",
    "    dataframe = pd.read_csv(mypath,header = None,engine = 'python',sep=\",\")\n",
    "    return dataframe"
   ]
  },
  {
   "cell_type": "code",
   "execution_count": 3,
   "metadata": {},
   "outputs": [],
   "source": [
    "def DataPreprocessing(mydataframe):\n",
    "    \n",
    "    # Dropping the duplicates\n",
    "    recordcount = len(mydataframe)\n",
    "    print (\"Original number of records in the training dataset before removing duplicates is: \" , recordcount)\n",
    "    mydataframe.drop_duplicates(subset=None, inplace=True)  # Python command to drop duplicates\n",
    "    newrecordcount = len(mydataframe)\n",
    "    print (\"Number of records in the training dataset after removing the duplicates is :\", newrecordcount,\"\\n\")\n",
    "\n",
    "    #Dropping the labels to a different dataset which is used to train the recurrent neural network classifier\n",
    "    df_X = mydataframe.drop(mydataframe.columns[41],axis=1,inplace = False)\n",
    "    df_Y = mydataframe.drop(mydataframe.columns[0:41],axis=1, inplace = False)\n",
    "\n",
    "    # Convert Categorial data to the numerical data for the efficient classification\n",
    "    df_X[df_X.columns[1:4]] = df_X[df_X.columns[1:4]].stack().rank(method='dense').unstack()\n",
    "    \n",
    "    # Coding the normal as \" 1 0\" and attack as \"0 1\"\n",
    "    df_Y[df_Y[41]!='normal.'] = 0\n",
    "    df_Y[df_Y[41]=='normal.'] = 1\n",
    "    #print (labels[41].value_counts())\n",
    "    \n",
    "    #converting input data into float which is requried in the future stage of building in the network\n",
    "    df_X = df_X.loc[:,df_X.columns[0:41]].astype(float)\n",
    "\n",
    "    # Normal is \"1 0\" and the abnormal is \"0 1\"\n",
    "    df_Y.columns = [\"y1\"]\n",
    "    df_Y.loc[:,('y2')] = df_Y['y1'] ==0\n",
    "    df_Y.loc[:,('y2')] = df_Y['y2'].astype(int)\n",
    "    \n",
    "\n",
    "    \n",
    "    return df_X,df_Y"
   ]
  },
  {
   "cell_type": "code",
   "execution_count": 4,
   "metadata": {},
   "outputs": [],
   "source": [
    "def FeatureSelection(myinputX, myinputY):\n",
    "\n",
    "    labels = np.array(myinputY).astype(int)\n",
    "    inputX = np.array(myinputX)\n",
    "    \n",
    "    #Random Forest Model\n",
    "    model = RandomForestClassifier(random_state = 0)\n",
    "    model.fit(inputX,labels)\n",
    "    importances = model.feature_importances_\n",
    "    \n",
    "    \n",
    "    #Plotting the Features agains their importance scores\n",
    "    indices = np.argsort(importances)[::-1]\n",
    "    std = np.std([tree.feature_importances_ for tree in model.estimators_],\n",
    "             axis=0)\n",
    "    plt.figure(figsize = (10,5))\n",
    "    plt.title(\"Feature importances (y-axis) vs Features IDs(x-axis)\")\n",
    "    plt.bar(range(inputX.shape[1]), importances[indices],\n",
    "       color=\"r\", yerr=std[indices], align=\"center\")\n",
    "    plt.xticks(range(inputX.shape[1]), indices)\n",
    "    plt.xlim([-1, inputX.shape[1]])\n",
    "    plt.show()\n",
    "    \n",
    "    # Selecting top featueres which have higher importance values = here we can find \"12\" features\n",
    "    #as we can see in the next step\n",
    "    newX = myinputX.iloc[:,model.feature_importances_.argsort()[::-1][:41]]\n",
    "   # Converting the X dataframe into tensors\n",
    "    myX = newX.as_matrix()\n",
    "    myY = labels\n",
    "\n",
    "   \n",
    "    return myX,myY"
   ]
  },
  {
   "cell_type": "code",
   "execution_count": 5,
   "metadata": {},
   "outputs": [
    {
     "name": "stdout",
     "output_type": "stream",
     "text": [
      "Laoding the IDS Data\n",
      "Loading the data\n"
     ]
    }
   ],
   "source": [
    "print (\"Laoding the IDS Data\")\n",
    "data_path = \"C:\\\\Users\\\\MaxWu\\\\Documents\\\\GitHub\\\\Intrusion-Detection-System-for-IoT-networks-using-Gated-Recurrent-Neural-Networks-GRU\\\\FinalApp.txt\"\n",
    "dataframe = DataLoading(data_path)"
   ]
  },
  {
   "cell_type": "code",
   "execution_count": 6,
   "metadata": {},
   "outputs": [
    {
     "name": "stdout",
     "output_type": "stream",
     "text": [
      "Data Preprocessing of loaded IDS Data\n",
      "Original number of records in the training dataset before removing duplicates is:  382266\n",
      "Number of records in the training dataset after removing the duplicates is : 90695 \n",
      "\n",
      "(90695, 41)\n"
     ]
    }
   ],
   "source": [
    "print (\"Data Preprocessing of loaded IDS Data\")\n",
    "data_X, data_Y = DataPreprocessing(dataframe)\n",
    "print(data_X.shape)"
   ]
  },
  {
   "cell_type": "code",
   "execution_count": 7,
   "metadata": {},
   "outputs": [
    {
     "data": {
      "image/png": "[encoded data removed]",
      "text/plain": [
       "<Figure size 720x360 with 1 Axes>"
      ]
     },
     "metadata": {},
     "output_type": "display_data"
    }
   ],
   "source": [
    "reduced_X,reduced_Y = FeatureSelection(data_X,data_Y)"
   ]
  },
  {
   "cell_type": "code",
   "execution_count": 8,
   "metadata": {},
   "outputs": [
    {
     "name": "stdout",
     "output_type": "stream",
     "text": [
      "(8000, 41)\n"
     ]
    }
   ],
   "source": [
    "train_X = reduced_X[:8000]\n",
    "train_Y = reduced_Y[:8000]\n",
    "print(train_X.shape)"
   ]
  },
  {
   "cell_type": "code",
   "execution_count": 9,
   "metadata": {},
   "outputs": [],
   "source": [
    "test_X = reduced_X[8001:10000]\n",
    "test_Y = reduced_Y[8001:10000]"
   ]
  },
  {
   "cell_type": "code",
   "execution_count": 10,
   "metadata": {},
   "outputs": [
    {
     "name": "stdout",
     "output_type": "stream",
     "text": [
      "Train X shape is : (8000, 41)\n",
      "Train Y shape is : (8000, 2)\n",
      "Test X shape is : (1999, 41)\n",
      "Test Y shape is : (1999, 2)\n"
     ]
    }
   ],
   "source": [
    "print (\"Train X shape is :\", train_X.shape)\n",
    "print (\"Train Y shape is :\", train_Y.shape)\n",
    "print (\"Test X shape is :\", test_X.shape)\n",
    "print (\"Test Y shape is :\", test_Y.shape)"
   ]
  },
  {
   "cell_type": "code",
   "execution_count": 11,
   "metadata": {},
   "outputs": [],
   "source": [
    "semitrain_X = pd.DataFrame(train_X)\n",
    "semitest_X = pd.DataFrame(test_X)"
   ]
  },
  {
   "cell_type": "code",
   "execution_count": 12,
   "metadata": {},
   "outputs": [],
   "source": [
    "from sklearn.preprocessing import MinMaxScaler\n",
    "scaler = MinMaxScaler(feature_range=(0, 1))"
   ]
  },
  {
   "cell_type": "code",
   "execution_count": 13,
   "metadata": {},
   "outputs": [],
   "source": [
    "scaler_traindata = scaler.fit(semitrain_X)\n",
    "train_norm = scaler_traindata.transform(semitrain_X)\n",
    "train_norm_X = pd.DataFrame(train_norm)"
   ]
  },
  {
   "cell_type": "code",
   "execution_count": 14,
   "metadata": {},
   "outputs": [],
   "source": [
    "scaler_testdata = scaler.fit(semitest_X)\n",
    "test_norm = scaler_testdata.transform(semitest_X)\n",
    "test_norm_X = pd.DataFrame(test_norm)"
   ]
  },
  {
   "cell_type": "code",
   "execution_count": 15,
   "metadata": {},
   "outputs": [
    {
     "name": "stdout",
     "output_type": "stream",
     "text": [
      "41\n"
     ]
    }
   ],
   "source": [
    "#Define Hyper Parameters for the model\n",
    "learning_rate = 0.001\n",
    "n_classes = 2\n",
    "display_step = 100\n",
    "input_features = train_X.shape[1] #No of selected features(columns)\n",
    "print(train_X.shape[1])\n",
    "training_cycles = 1000\n",
    "time_steps = 5 # No of time-steps to backpropogate\n",
    "hidden_units = 3 #No of LSTM units in a LSTM Hidden Layer"
   ]
  },
  {
   "cell_type": "code",
   "execution_count": 16,
   "metadata": {},
   "outputs": [
    {
     "name": "stdout",
     "output_type": "stream",
     "text": [
      "(3, 2)\n"
     ]
    }
   ],
   "source": [
    "with tf.name_scope('input'):\n",
    "    x = tf.placeholder(tf.float64,shape = [None,time_steps,input_features], name = \"x-input\")\n",
    "    y = tf.placeholder(tf.float64, shape = [None,n_classes],name = \"y-input\")\n",
    "#Weights and Biases\n",
    "with tf.name_scope(\"weights\"):\n",
    "    W = tf.Variable(tf.random_normal([hidden_units,n_classes]),name = \"layer-weights\")\n",
    "\n",
    "with tf.name_scope(\"biases\"):\n",
    "    b = tf.Variable(tf.random_normal([n_classes]),name = \"unit-biases\")\n",
    "    \n",
    "print(W.shape)"
   ]
  },
  {
   "cell_type": "code",
   "execution_count": 17,
   "metadata": {},
   "outputs": [],
   "source": [
    "def rnn_data(data, time_steps, labels=False):\n",
    "    \"\"\"\n",
    "    creates new data frame based on previous observation\n",
    "      * example:\n",
    "        l = [1, 2, 3, 4, 5]\n",
    "        time_steps = 2\n",
    "        -> labels == False [[1, 2], [2, 3], [3, 4]]\n",
    "        -> labels == True [3, 4, 5]\n",
    "    \"\"\"\n",
    "    rnn_df = []\n",
    "    for i in range(len(data) - time_steps):\n",
    "        if labels:\n",
    "            try:\n",
    "                rnn_df.append(data.iloc[i + time_steps].as_matrix())\n",
    "            except AttributeError:\n",
    "                rnn_df.append(data.iloc[i + time_steps])\n",
    "        else:\n",
    "            data_ = data.iloc[i: i + time_steps].as_matrix()\n",
    "            rnn_df.append(data_ if len(data_.shape) > 1 else [[i] for i in data_])\n",
    "\n",
    "    return np.array(rnn_df, dtype=np.float32)"
   ]
  },
  {
   "cell_type": "code",
   "execution_count": 18,
   "metadata": {},
   "outputs": [],
   "source": [
    "train_data_X = pd.DataFrame(train_norm_X)\n",
    "train_data_Y = pd.DataFrame(train_Y)\n",
    "newtrain_X = rnn_data(train_data_X,time_steps,labels = False)\n",
    "newtrain_Y = rnn_data(train_data_Y,time_steps,labels = True)"
   ]
  },
  {
   "cell_type": "code",
   "execution_count": 19,
   "metadata": {},
   "outputs": [
    {
     "name": "stdout",
     "output_type": "stream",
     "text": [
      "Shape of new train X (7995, 5, 41)\n",
      "Shape of new train Y (7995, 2)\n"
     ]
    }
   ],
   "source": [
    "print (\"Shape of new train X\",newtrain_X.shape)\n",
    "print (\"Shape of new train Y\",newtrain_Y.shape)"
   ]
  },
  {
   "cell_type": "code",
   "execution_count": 20,
   "metadata": {},
   "outputs": [
    {
     "name": "stdout",
     "output_type": "stream",
     "text": [
      "Shape of new test X (1994, 5, 41)\n",
      "Shape of new test Y (1994, 2)\n"
     ]
    }
   ],
   "source": [
    "test_data_X = pd.DataFrame(test_norm_X)\n",
    "test_data_Y = pd.DataFrame(test_Y)\n",
    "newtest_X = rnn_data(test_data_X,time_steps,labels = False)\n",
    "newtest_Y = rnn_data(test_data_Y,time_steps,labels = True)\n",
    "\n",
    "print (\"Shape of new test X\",newtest_X.shape)\n",
    "print (\"Shape of new test Y\",newtest_Y.shape)"
   ]
  },
  {
   "cell_type": "code",
   "execution_count": 21,
   "metadata": {},
   "outputs": [],
   "source": [
    "x_ = tf.unstack(x,time_steps,axis =1)"
   ]
  },
  {
   "cell_type": "code",
   "execution_count": 22,
   "metadata": {},
   "outputs": [
    {
     "name": "stdout",
     "output_type": "stream",
     "text": [
      "[<tf.Tensor 'unstack:0' shape=(?, 41) dtype=float64>, <tf.Tensor 'unstack:1' shape=(?, 41) dtype=float64>, <tf.Tensor 'unstack:2' shape=(?, 41) dtype=float64>, <tf.Tensor 'unstack:3' shape=(?, 41) dtype=float64>, <tf.Tensor 'unstack:4' shape=(?, 41) dtype=float64>]\n"
     ]
    }
   ],
   "source": [
    "print(x_)"
   ]
  },
  {
   "cell_type": "code",
   "execution_count": 23,
   "metadata": {},
   "outputs": [],
   "source": [
    "gru_cell = tf.contrib.rnn.BasicRNNCell(hidden_units)"
   ]
  },
  {
   "cell_type": "code",
   "execution_count": 24,
   "metadata": {},
   "outputs": [
    {
     "name": "stdout",
     "output_type": "stream",
     "text": [
      "(?, 3)\n"
     ]
    }
   ],
   "source": [
    "with tf.variable_scope('MyGRUCel36'):\n",
    "    gruoutputs,grustates = tf.contrib.rnn.static_rnn(gru_cell,x_,dtype=tf.float64)\n",
    "print(gruoutputs[-1].shape)"
   ]
  },
  {
   "cell_type": "code",
   "execution_count": 25,
   "metadata": {},
   "outputs": [
    {
     "name": "stdout",
     "output_type": "stream",
     "text": [
      "(3, 2)\n",
      "(?, 2)\n"
     ]
    }
   ],
   "source": [
    "output =  tf.add(tf.matmul(gruoutputs[-1],tf.cast(W,tf.float64)),tf.cast(b,tf.float64))\n",
    "print(W.shape)\n",
    "print(y.shape)"
   ]
  },
  {
   "cell_type": "code",
   "execution_count": 26,
   "metadata": {},
   "outputs": [],
   "source": [
    "cost = tf.reduce_mean(tf.nn.softmax_cross_entropy_with_logits_v2(labels=y,logits = output))\n",
    "optimizer = tf.train.AdamOptimizer(learning_rate=learning_rate).minimize(cost)\n"
   ]
  },
  {
   "cell_type": "code",
   "execution_count": 27,
   "metadata": {},
   "outputs": [],
   "source": [
    "sess = tf.InteractiveSession()\n",
    "sess.run(tf.global_variables_initializer())"
   ]
  },
  {
   "cell_type": "code",
   "execution_count": 28,
   "metadata": {},
   "outputs": [
    {
     "name": "stdout",
     "output_type": "stream",
     "text": [
      "[ 2.64485638 -0.71133025]\n",
      "[1. 0.]\n",
      "(7995,)\n"
     ]
    }
   ],
   "source": [
    "print(sess.run(output[0], feed_dict ={x :newtrain_X,y:newtrain_Y}))\n",
    "print(sess.run(y[0], feed_dict ={x :newtrain_X,y:newtrain_Y}))\n",
    "print(sess.run(tf.nn.softmax_cross_entropy_with_logits_v2(logits=output, labels=y), feed_dict ={x :newtrain_X,y:newtrain_Y}).shape)"
   ]
  },
  {
   "cell_type": "code",
   "execution_count": 29,
   "metadata": {},
   "outputs": [],
   "source": [
    "#for i in range (training_cycles):\n",
    "#    sess.run([optimizer,cost], feed_dict = {x:newtrain_X, y:newtrain_Y})\n",
    "#    \n",
    "#    if (i) % display_step == 0:\n",
    "#        print (\"Cost for the training cycle : \",i,\" : is : \",sess.run(cost, feed_dict ={x :newtrain_X,y:newtrain_Y}))\n",
    "#correct = tf.equal(tf.argmax(output, 1), tf.argmax(y,1))\n",
    "#accuracy = tf.reduce_mean(tf.cast(correct, 'float'))\n",
    "#print('Accuracy on the overall test set is :',accuracy.eval({x:newtest_X, y:newtest_Y}))"
   ]
  }
 ],
 "metadata": {
  "kernelspec": {
   "display_name": "Python 3",
   "language": "python",
   "name": "python3"
  },
  "language_info": {
   "codemirror_mode": {
    "name": "ipython",
    "version": 3
   },
   "file_extension": ".py",
   "mimetype": "text/x-python",
   "name": "python",
   "nbconvert_exporter": "python",
   "pygments_lexer": "ipython3",
   "version": "3.5.5"
  }
 },
 "nbformat": 4,
 "nbformat_minor": 2
}
